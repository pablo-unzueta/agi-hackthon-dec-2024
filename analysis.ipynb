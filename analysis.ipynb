{
 "cells": [
  {
   "cell_type": "code",
   "execution_count": 42,
   "metadata": {},
   "outputs": [],
   "source": [
    "import MDAnalysis as mda\n",
    "from pathlib import Path\n",
    "import numpy as np\n",
    "from sklearn.decomposition import PCA\n"
   ]
  },
  {
   "cell_type": "code",
   "execution_count": 43,
   "metadata": {},
   "outputs": [],
   "source": [
    "from MDAnalysis.analysis import rms\n",
    "import numpy as np\n",
    "import matplotlib.pyplot as plt\n",
    "\n",
    "\n",
    "def compute_trajectory_rmsd(ref_pdb, traj_file, selection=\"backbone\", output_path=None):\n",
    "    \"\"\"\n",
    "    Compute RMSD for each frame in a trajectory compared to a reference structure.\n",
    "\n",
    "    Args:\n",
    "        ref_pdb: Path to reference PDB file\n",
    "        traj_file: Path to trajectory file (DCD, XTC, TRR, etc.)\n",
    "        selection: Atom selection string (default: 'backbone')\n",
    "        output_path: Path to save the RMSD plot. If None, no plot is saved\n",
    "\n",
    "    Returns:\n",
    "        tuple: (time array, RMSD array)\n",
    "    \"\"\"\n",
    "    # Load reference and trajectory\n",
    "    u = mda.Universe(ref_pdb, traj_file)\n",
    "    ref = mda.Universe(ref_pdb)\n",
    "\n",
    "    # Select atoms for RMSD calculation\n",
    "    mobile = u.select_atoms(selection)\n",
    "    reference = ref.select_atoms(selection)\n",
    "\n",
    "    # Ensure we have matching selections\n",
    "    if len(mobile) != len(reference):\n",
    "        raise ValueError(\n",
    "            f\"Selections have different lengths: {len(mobile)} vs {len(reference)}\"\n",
    "        )\n",
    "\n",
    "    # Calculate RMSD\n",
    "    R = rms.RMSD(\n",
    "        mobile, reference, select=selection, ref_frame=0\n",
    "    )  # superimpose on first frame\n",
    "    R.run()\n",
    "\n",
    "    # Get time and RMSD data\n",
    "    time = np.arange(len(R.results.rmsd)) * u.trajectory.dt\n",
    "    rmsd = R.results.rmsd[:, 2]  # Column 2 contains RMSD values\n",
    "\n",
    "    # Create and save plot if output path provided\n",
    "    if output_path is not None:\n",
    "        plt.figure(figsize=(10, 6))\n",
    "        plt.plot(time, rmsd)\n",
    "        plt.xlabel(\"Time (ps)\")\n",
    "        plt.ylabel(\"RMSD (Å)\")\n",
    "        plt.title(f\"RMSD over time ({selection})\")\n",
    "        plt.savefig(output_path, dpi=300, bbox_inches=\"tight\")\n",
    "        plt.close()\n",
    "        print(f\"RMSD plot saved to {output_path}\")\n",
    "\n",
    "    return time, rmsd"
   ]
  },
  {
   "cell_type": "markdown",
   "metadata": {},
   "source": [
    "## GFP"
   ]
  },
  {
   "cell_type": "code",
   "execution_count": 44,
   "metadata": {},
   "outputs": [],
   "source": [
    "path = Path(\"./gfp-data/\")"
   ]
  },
  {
   "cell_type": "code",
   "execution_count": 45,
   "metadata": {},
   "outputs": [],
   "source": [
    "u = mda.Universe(path / \"structure.pdb\", path / \"trajectory.xtc\")"
   ]
  },
  {
   "cell_type": "code",
   "execution_count": 46,
   "metadata": {},
   "outputs": [
    {
     "name": "stdout",
     "output_type": "stream",
     "text": [
      "RMSD plot saved to gfp-data/rmsd_plot.png\n"
     ]
    }
   ],
   "source": [
    "# compute rmsd for all atoms, backbone and calpha\n",
    "time, rmsd = compute_trajectory_rmsd(\n",
    "    path / \"structure.pdb\", path / \"trajectory.xtc\", output_path=path / \"rmsd_plot.png\"\n",
    ")\n",
    "# save time and rmsd\n",
    "np.save(\"gfp-data/time.npy\", time)\n",
    "np.save(\"gfp-data/rmsd.npy\", rmsd)"
   ]
  },
  {
   "cell_type": "markdown",
   "metadata": {},
   "source": [
    "## Photosystem 2"
   ]
  },
  {
   "cell_type": "code",
   "execution_count": 56,
   "metadata": {},
   "outputs": [],
   "source": [
    "path = Path(\"./ps-2-data/\")"
   ]
  },
  {
   "cell_type": "code",
   "execution_count": 57,
   "metadata": {},
   "outputs": [
    {
     "name": "stderr",
     "output_type": "stream",
     "text": [
      "/Users/pablo/software/hackathon-local/.venv/lib/python3.11/site-packages/MDAnalysis/topology/PDBParser.py:350: UserWarning: Element information is missing, elements attribute will not be populated. If needed these can be guessed using universe.guess_TopologyAttrs(context='default', to_guess=['elements']).\n",
      "  warnings.warn(\"Element information is missing, elements attribute \"\n"
     ]
    }
   ],
   "source": [
    "u = mda.Universe(path / \"structure.pdb\", path / \"trajectory.xtc\")"
   ]
  },
  {
   "cell_type": "code",
   "execution_count": 58,
   "metadata": {},
   "outputs": [
    {
     "name": "stdout",
     "output_type": "stream",
     "text": [
      "RMSD plot saved to ps-2-data/rmsd_plot.png\n"
     ]
    }
   ],
   "source": [
    "# compute rmsd for all atoms, backbone and calpha\n",
    "time, rmsd = compute_trajectory_rmsd(\n",
    "    path / \"structure.pdb\", path / \"trajectory.xtc\", output_path=path / \"rmsd_plot.png\"\n",
    ")\n",
    "# save time and rmsd\n",
    "np.save(\"ps-2-data/time.npy\", time)\n",
    "np.save(\"ps-2-data/rmsd.npy\", rmsd)\n"
   ]
  },
  {
   "cell_type": "markdown",
   "metadata": {},
   "source": [
    "## Cytochrome P450"
   ]
  },
  {
   "cell_type": "code",
   "execution_count": 59,
   "metadata": {},
   "outputs": [],
   "source": [
    "path = Path(\"./c-p450-data/\")"
   ]
  },
  {
   "cell_type": "code",
   "execution_count": 60,
   "metadata": {},
   "outputs": [],
   "source": [
    "u = mda.Universe(path / \"structure.pdb\", path / \"trajectory.xtc\")"
   ]
  },
  {
   "cell_type": "code",
   "execution_count": 61,
   "metadata": {},
   "outputs": [
    {
     "name": "stdout",
     "output_type": "stream",
     "text": [
      "RMSD plot saved to c-p450-data/rmsd_plot.png\n"
     ]
    }
   ],
   "source": [
    "# compute rmsd for all atoms, backbone and calpha\n",
    "time, rmsd = compute_trajectory_rmsd(\n",
    "    path / \"structure.pdb\", path / \"trajectory.xtc\", output_path=path / \"rmsd_plot.png\"\n",
    ")\n",
    "np.save(\"c-p450-data/time.npy\", time)\n",
    "np.save(\"c-p450-data/rmsd.npy\", rmsd)\n"
   ]
  },
  {
   "cell_type": "code",
   "execution_count": 68,
   "metadata": {},
   "outputs": [
    {
     "name": "stdout",
     "output_type": "stream",
     "text": [
      "GFP mean rmsd: 3.222233061774306\n",
      "PS2 mean rmsd: 2.5701842841111606\n",
      "CP450 mean rmsd: 2.724549072615025\n"
     ]
    }
   ],
   "source": [
    "# calculate average rmsd per protein\n",
    "gfp_mean_rmsd = np.load(\"gfp-data/rmsd.npy\").mean()\n",
    "ps2_mean_rmsd = np.load(\"ps-2-data/rmsd.npy\").mean()\n",
    "cp450_mean_rmsd = np.load(\"c-p450-data/rmsd.npy\").mean()\n",
    "print(f\"GFP mean rmsd: {gfp_mean_rmsd}\")\n",
    "print(f\"PS2 mean rmsd: {ps2_mean_rmsd}\")\n",
    "print(f\"CP450 mean rmsd: {cp450_mean_rmsd}\")\n",
    "\n",
    "rmsds = np.array([gfp_mean_rmsd, ps2_mean_rmsd, cp450_mean_rmsd])"
   ]
  },
  {
   "cell_type": "code",
   "execution_count": 69,
   "metadata": {},
   "outputs": [],
   "source": [
    "# Overall analysis\n",
    "embeddings = np.load(\"esm-data/embeddings.npy\")\n",
    "# run pca on embeddings\n",
    "pca = PCA(n_components=2)\n",
    "embeddings_pca = pca.fit_transform(embeddings)"
   ]
  },
  {
   "cell_type": "code",
   "execution_count": 75,
   "metadata": {},
   "outputs": [
    {
     "data": {
      "image/png": "[encoded data removed]",
      "text/plain": [
       "<Figure size 640x480 with 2 Axes>"
      ]
     },
     "metadata": {},
     "output_type": "display_data"
    }
   ],
   "source": [
    "from matplotlib import pyplot as plt\n",
    "\n",
    "plt.scatter(embeddings_pca[:, 0], embeddings_pca[:, 1], c=rmsds)\n",
    "plt.title(\"PCA of ESM embeddings\")\n",
    "plt.xlabel(\"PCA Component 1\")\n",
    "plt.ylabel(\"PCA Component 2\")\n",
    "# add color bar\n",
    "plt.colorbar(label=\"RMSD (Å)\")\n",
    "plt.show()\n"
   ]
  },
  {
   "cell_type": "code",
   "execution_count": null,
   "metadata": {},
   "outputs": [],
   "source": []
  }
 ],
 "metadata": {
  "kernelspec": {
   "display_name": ".venv",
   "language": "python",
   "name": "python3"
  },
  "language_info": {
   "codemirror_mode": {
    "name": "ipython",
    "version": 3
   },
   "file_extension": ".py",
   "mimetype": "text/x-python",
   "name": "python",
   "nbconvert_exporter": "python",
   "pygments_lexer": "ipython3",
   "version": "3.11.6"
  }
 },
 "nbformat": 4,
 "nbformat_minor": 2
}
