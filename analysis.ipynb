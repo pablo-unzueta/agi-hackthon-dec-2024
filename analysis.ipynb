{
 "cells": [
  {
   "cell_type": "code",
   "execution_count": 3,
   "metadata": {},
   "outputs": [],
   "source": [
    "import MDAnalysis as mda\n",
    "from pathlib import Path"
   ]
  },
  {
   "cell_type": "code",
   "execution_count": 9,
   "metadata": {},
   "outputs": [],
   "source": [
    "from MDAnalysis.analysis import rms\n",
    "import numpy as np\n",
    "import matplotlib.pyplot as plt\n",
    "\n",
    "\n",
    "def compute_trajectory_rmsd(ref_pdb, traj_file, selection=\"backbone\", output_path=None):\n",
    "    \"\"\"\n",
    "    Compute RMSD for each frame in a trajectory compared to a reference structure.\n",
    "\n",
    "    Args:\n",
    "        ref_pdb: Path to reference PDB file\n",
    "        traj_file: Path to trajectory file (DCD, XTC, TRR, etc.)\n",
    "        selection: Atom selection string (default: 'backbone')\n",
    "        output_path: Path to save the RMSD plot. If None, saves as 'rmsd_plot.png'\n",
    "\n",
    "    Returns:\n",
    "        tuple: (time array, RMSD array)\n",
    "    \"\"\"\n",
    "    # Load reference and trajectory\n",
    "    u = mda.Universe(ref_pdb, traj_file)\n",
    "    ref = mda.Universe(ref_pdb)\n",
    "\n",
    "    # Select atoms for RMSD calculation\n",
    "    mobile = u.select_atoms(selection)\n",
    "    reference = ref.select_atoms(selection)\n",
    "\n",
    "    # Ensure we have matching selections\n",
    "    if len(mobile) != len(reference):\n",
    "        raise ValueError(\n",
    "            f\"Selections have different lengths: {len(mobile)} vs {len(reference)}\"\n",
    "        )\n",
    "\n",
    "    # Calculate RMSD\n",
    "    R = rms.RMSD(\n",
    "        mobile, reference, select=selection, ref_frame=0\n",
    "    )  # superimpose on first frame\n",
    "    R.run()\n",
    "\n",
    "    # Get time and RMSD data\n",
    "    time = np.arange(len(R.results.rmsd)) * u.trajectory.dt\n",
    "    rmsd = R.results.rmsd[:, 2]  # Column 2 contains RMSD values\n",
    "\n",
    "    # Create plot\n",
    "    plt.figure(figsize=(10, 6))\n",
    "    plt.plot(time, rmsd)\n",
    "    plt.xlabel(\"Time (ps)\")\n",
    "    plt.ylabel(\"RMSD (Å)\")\n",
    "    plt.title(f\"RMSD over time ({selection})\")\n",
    "\n",
    "    # Save plot\n",
    "    if output_path is None:\n",
    "        output_path = \"rmsd_plot.png\"\n",
    "    plt.savefig(output_path, dpi=300, bbox_inches=\"tight\")\n",
    "    plt.close()\n",
    "    print(f\"RMSD plot saved to {output_path}\")\n",
    "\n",
    "    return time, rmsd"
   ]
  },
  {
   "cell_type": "markdown",
   "metadata": {},
   "source": [
    "## GFP"
   ]
  },
  {
   "cell_type": "code",
   "execution_count": 10,
   "metadata": {},
   "outputs": [],
   "source": [
    "path = Path(\"./gfp-data/\")"
   ]
  },
  {
   "cell_type": "code",
   "execution_count": 11,
   "metadata": {},
   "outputs": [],
   "source": [
    "u = mda.Universe(path / \"structure.pdb\", path / \"trajectory.xtc\")"
   ]
  },
  {
   "cell_type": "code",
   "execution_count": 12,
   "metadata": {},
   "outputs": [
    {
     "name": "stdout",
     "output_type": "stream",
     "text": [
      "RMSD plot saved to rmsd_plot.png\n"
     ]
    },
    {
     "data": {
      "text/plain": [
       "(array([0.000e+00, 1.000e+01, 2.000e+01, ..., 9.998e+04, 9.999e+04,\n",
       "        1.000e+05], shape=(10001,)),\n",
       " array([2.69281219e-06, 7.54147502e-01, 8.86172865e-01, ...,\n",
       "        3.57405994e+00, 4.08780492e+00, 3.54214474e+00], shape=(10001,)))"
      ]
     },
     "execution_count": 12,
     "metadata": {},
     "output_type": "execute_result"
    }
   ],
   "source": [
    "# compute rmsd for all atoms, backbone and calpha\n",
    "compute_trajectory_rmsd(path / \"structure.pdb\", path / \"trajectory.xtc\")"
   ]
  },
  {
   "cell_type": "code",
   "execution_count": null,
   "metadata": {},
   "outputs": [],
   "source": []
  },
  {
   "cell_type": "markdown",
   "metadata": {},
   "source": [
    "## Photosystem 2"
   ]
  },
  {
   "cell_type": "code",
   "execution_count": 15,
   "metadata": {},
   "outputs": [],
   "source": [
    "path = Path(\"./ps-2-data/\")"
   ]
  },
  {
   "cell_type": "code",
   "execution_count": 16,
   "metadata": {},
   "outputs": [
    {
     "name": "stderr",
     "output_type": "stream",
     "text": [
      "/Users/pablo/software/hackathon-local/.venv/lib/python3.11/site-packages/MDAnalysis/topology/PDBParser.py:350: UserWarning: Element information is missing, elements attribute will not be populated. If needed these can be guessed using universe.guess_TopologyAttrs(context='default', to_guess=['elements']).\n",
      "  warnings.warn(\"Element information is missing, elements attribute \"\n"
     ]
    }
   ],
   "source": [
    "u = mda.Universe(path / \"structure.pdb\", path / \"trajectory.xtc\")"
   ]
  },
  {
   "cell_type": "code",
   "execution_count": 17,
   "metadata": {},
   "outputs": [
    {
     "name": "stdout",
     "output_type": "stream",
     "text": [
      "RMSD plot saved to rmsd_plot.png\n"
     ]
    },
    {
     "data": {
      "text/plain": [
       "(array([0.000e+00, 1.000e+01, 2.000e+01, ..., 9.998e+04, 9.999e+04,\n",
       "        1.000e+05], shape=(10001,)),\n",
       " array([2.71500936e-06, 9.84501776e-01, 7.96082973e-01, ...,\n",
       "        7.15606778e+00, 4.35904061e+00, 4.53432125e+00], shape=(10001,)))"
      ]
     },
     "execution_count": 17,
     "metadata": {},
     "output_type": "execute_result"
    }
   ],
   "source": [
    "# compute rmsd for all atoms, backbone and calpha\n",
    "compute_trajectory_rmsd(path / \"structure.pdb\", path / \"trajectory.xtc\")"
   ]
  },
  {
   "cell_type": "markdown",
   "metadata": {},
   "source": [
    "## Cytochrome P450"
   ]
  },
  {
   "cell_type": "code",
   "execution_count": 18,
   "metadata": {},
   "outputs": [],
   "source": [
    "path = Path(\"./c-p450-data/\")"
   ]
  },
  {
   "cell_type": "code",
   "execution_count": 19,
   "metadata": {},
   "outputs": [],
   "source": [
    "u = mda.Universe(path / \"structure.pdb\", path / \"trajectory.xtc\")"
   ]
  },
  {
   "cell_type": "code",
   "execution_count": 20,
   "metadata": {},
   "outputs": [
    {
     "name": "stdout",
     "output_type": "stream",
     "text": [
      "RMSD plot saved to rmsd_plot.png\n"
     ]
    },
    {
     "data": {
      "text/plain": [
       "(array([0.000e+00, 1.000e+01, 2.000e+01, ..., 9.998e+04, 9.999e+04,\n",
       "        1.000e+05], shape=(10001,)),\n",
       " array([4.15041084e-06, 9.26542245e-01, 1.05393071e+00, ...,\n",
       "        2.32886573e+00, 2.24340516e+00, 2.25355164e+00], shape=(10001,)))"
      ]
     },
     "execution_count": 20,
     "metadata": {},
     "output_type": "execute_result"
    }
   ],
   "source": [
    "# compute rmsd for all atoms, backbone and calpha\n",
    "compute_trajectory_rmsd(path / \"structure.pdb\", path / \"trajectory.xtc\")"
   ]
  },
  {
   "cell_type": "code",
   "execution_count": null,
   "metadata": {},
   "outputs": [],
   "source": []
  }
 ],
 "metadata": {
  "kernelspec": {
   "display_name": ".venv",
   "language": "python",
   "name": "python3"
  },
  "language_info": {
   "codemirror_mode": {
    "name": "ipython",
    "version": 3
   },
   "file_extension": ".py",
   "mimetype": "text/x-python",
   "name": "python",
   "nbconvert_exporter": "python",
   "pygments_lexer": "ipython3",
   "version": "3.11.6"
  }
 },
 "nbformat": 4,
 "nbformat_minor": 2
}
